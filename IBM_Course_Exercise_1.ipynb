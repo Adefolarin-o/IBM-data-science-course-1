{
  "nbformat": 4,
  "nbformat_minor": 0,
  "metadata": {
    "colab": {
      "provenance": [],
      "authorship_tag": "ABX9TyMxNLn5UH9xcUg0XdBN7dyq",
      "include_colab_link": true
    },
    "kernelspec": {
      "name": "python3",
      "display_name": "Python 3"
    },
    "language_info": {
      "name": "python"
    }
  },
  "cells": [
    {
      "cell_type": "markdown",
      "metadata": {
        "id": "view-in-github",
        "colab_type": "text"
      },
      "source": [
        "<a href=\"https://colab.research.google.com/github/Adefolarin-o/IBM-data-science-course-1/blob/main/IBM_Course_Exercise_1.ipynb\" target=\"_parent\"><img src=\"https://colab.research.google.com/assets/colab-badge.svg\" alt=\"Open In Colab\"/></a>"
      ]
    },
    {
      "cell_type": "markdown",
      "source": [
        "# Data Science Tools and Ecosystem"
      ],
      "metadata": {
        "id": "E8Bw7j5BnY8P"
      }
    },
    {
      "cell_type": "markdown",
      "source": [
        "In this notebook, Data Science Tools and Ecosystem are summarized.\n",
        "\n"
      ],
      "metadata": {
        "id": "fqm2l93Xn8je"
      }
    },
    {
      "cell_type": "markdown",
      "source": [
        "Some of the popular languages that Data Scientists use are:\n",
        "\n",
        "\n",
        "1.   R\n",
        "2.   Python\n",
        "3.   SQL\n",
        "\n",
        "\n"
      ],
      "metadata": {
        "id": "Kjx15Vz5oKWC"
      }
    },
    {
      "cell_type": "markdown",
      "source": [
        "Some of the commonly used libraries used by Data Scientists include:\n",
        "\n",
        "\n",
        "1.   NumPy\n",
        "2.   Pandas\n",
        "3.   SciPy\n",
        "\n"
      ],
      "metadata": {
        "id": "8chGf_EjovLu"
      }
    },
    {
      "cell_type": "markdown",
      "source": [],
      "metadata": {
        "id": "_c216qAYpFMK"
      }
    },
    {
      "cell_type": "markdown",
      "metadata": {
        "id": "8576a45c"
      },
      "source": [
        "| Data Science Tools |\n",
        "| --- |\n",
        "| Jupyter Notebooks |\n",
        "| RStudio |\n",
        "| VS Code |"
      ]
    },
    {
      "cell_type": "markdown",
      "metadata": {
        "id": "f9cd1825"
      },
      "source": [
        "### Below are a few examples of evaluating arithmetic expressions in Python."
      ]
    },
    {
      "cell_type": "code",
      "source": [],
      "metadata": {
        "id": "27EbHC-QpsWi"
      },
      "execution_count": null,
      "outputs": []
    },
    {
      "cell_type": "code",
      "metadata": {
        "colab": {
          "base_uri": "https://localhost:8080/"
        },
        "id": "b82f7ccc",
        "outputId": "0ba0ec55-53c2-4a41-f0bf-2863a3351f51"
      },
      "source": [
        "# This a simple arithmetic expression to mutiply then add integers.\n",
        "(3 * 4) + 5"
      ],
      "execution_count": null,
      "outputs": [
        {
          "output_type": "execute_result",
          "data": {
            "text/plain": [
              "17"
            ]
          },
          "metadata": {},
          "execution_count": 2
        }
      ]
    },
    {
      "cell_type": "code",
      "metadata": {
        "colab": {
          "base_uri": "https://localhost:8080/"
        },
        "id": "8f10b910",
        "outputId": "a5dca4b0-0468-4d53-e4c7-b51f6d77ff2c"
      },
      "source": [
        "# This will convert 200 minutes to hours by diving by 60.\n",
        "200 / 60"
      ],
      "execution_count": null,
      "outputs": [
        {
          "output_type": "execute_result",
          "data": {
            "text/plain": [
              "3.3333333333333335"
            ]
          },
          "metadata": {},
          "execution_count": 3
        }
      ]
    },
    {
      "cell_type": "markdown",
      "metadata": {
        "id": "f1764aee"
      },
      "source": [
        "**Objectives:**\n",
        "\n",
        "*   List popular languages for Data Science.\n",
        "*   List commonly used libraries used by Data Scientists.\n",
        "*   List of Data Science Tools.\n",
        "*   Evaluate arithmetic expressions in Python.\n",
        "*   Convert minutes to hours."
      ]
    },
    {
      "cell_type": "markdown",
      "source": [
        "## Author\n",
        "Adefolarin Olateru-Olagbegi"
      ],
      "metadata": {
        "id": "L0bCV_uzqxms"
      }
    },
    {
      "cell_type": "code",
      "source": [],
      "metadata": {
        "id": "CHfmdIiwqxHl"
      },
      "execution_count": null,
      "outputs": []
    }
  ]
}